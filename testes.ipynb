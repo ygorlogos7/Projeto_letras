{
 "cells": [
  {
   "cell_type": "code",
   "execution_count": 24,
   "id": "f015fd33",
   "metadata": {},
   "outputs": [
    {
     "name": "stdout",
     "output_type": "stream",
     "text": [
      "200\n"
     ]
    }
   ],
   "source": [
    "import requests\n",
    "\n",
    "endpoint = \"https://api.lyrics.ovh/v1/linkin_park/faint.\"\n",
    "\n",
    "response = requests.get(endpoint)\n",
    "print(response.status_code)\n",
    "\n"
   ]
  },
  {
   "cell_type": "code",
   "execution_count": 25,
   "id": "df5321fa",
   "metadata": {},
   "outputs": [
    {
     "data": {
      "text/plain": [
       "\"I am a little bit of loneliness a little bit of disregard\\r\\nHandful of complaints but I can't help the fact that everyone can see\\r\\nthese scars\\r\\nI am what I want you to want what I want you to feel\\r\\nBut it's like no matter what I do, I can't convince you, to just believe\\r\\nthis is real\\n\\nSo I let go, watching you, turn your back like you always do\\n\\nFace away and pretend that I'm not\\n\\nBut I'll be here 'cause you're all that I got\\n\\n\\n\\n(I can't feel the way I did before)\\n\\n(Don't turn your back on me)\\n\\n(I won't be ignored)\\n\\n(Time won't heal this damage anymore)\\n\\n(Don't turn your back on me)\\n\\n(I won't be ignored)\\n\\n\\n\\nI am a little bit insecure a little unconfident\\n\\nCause you don't understand I do what I can but sometimes I don't make\\n\\nsense\\n\\nI am what you never wanna say but I've never had a doubt\\n\\nIt's like no matter what I do I can't convince you for once just to hear\\n\\nme out\\n\\nSo I let go watching you turn your back like you always do\\n\\nFace away and pretend that I'm not\\n\\nBut I'll be here 'cause you're all that I've got\\n\\n\\n\\n(I can't feel the way I did before)\\n\\n(Don't turn your back on me)\\n\\n(I won't be ignored)\\n\\n(Time won't heal this damage anymore)\\n\\n(Don't turn your back on me)\\n\\n(I won't be ignored)\\n\\n\\n\\n(No)\\n\\n(Hear me out now)\\n\\n(You're gonna listen to me, like it or not)\\n\\n(Right now)\\n\\n(Hear me out now)\\n\\n(You're gonna listen to me, like it or not)\\n\\n(Right now)\\n\\n\\n\\n(I can't feel the way I did before)\\n\\n(Don't turn your back on me)\\n\\n(I won't be ignored)\\n\\n\\n\\n(I can't feel the way I did before)\\n\\n(Don't turn your back on me)\\n\\n(I won't be ignored)\\n\\n(Time won't heal this damage anymore)\\n\\n(Don't turn your back on me)\\n\\n(I won't be ignored)\\n\\n\\n\\nI can't feel (Don't turn your back on me)\\n\\nI won't be ignored\\n\\nTime won't heal\\n\\nDon't turn your back on me\\n\\nI won't be ignored\""
      ]
     },
     "execution_count": 25,
     "metadata": {},
     "output_type": "execute_result"
    }
   ],
   "source": [
    "response.json()['lyrics'] "
   ]
  }
 ],
 "metadata": {
  "kernelspec": {
   "display_name": ".venv",
   "language": "python",
   "name": "python3"
  },
  "language_info": {
   "codemirror_mode": {
    "name": "ipython",
    "version": 3
   },
   "file_extension": ".py",
   "mimetype": "text/x-python",
   "name": "python",
   "nbconvert_exporter": "python",
   "pygments_lexer": "ipython3",
   "version": "3.12.10"
  }
 },
 "nbformat": 4,
 "nbformat_minor": 5
}
